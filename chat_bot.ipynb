{
 "cells": [
  {
   "cell_type": "code",
   "execution_count": 2,
   "id": "76354e17",
   "metadata": {},
   "outputs": [
    {
     "name": "stdout",
     "output_type": "stream",
     "text": [
      "ChatBot 🤖: Hello! I'm an advanced rule-based chatbot. Type 'bye' to exit.\n",
      "You: hi\n",
      "ChatBot 🤖: Hello! How can I assist you today?\n",
      "You: how are you\n",
      "ChatBot 🤖: I'm just a bot, but I'm feeling great! How about you?\n",
      "You: dinner?\n",
      "ChatBot 🤖: I'm not sure how to respond to that. Can you ask something else?\n",
      "You: temperature\n",
      "ChatBot 🤖: I'm not connected to live weather data, but it looks like a good day to code!\n",
      "You: weather\n",
      "ChatBot 🤖: I'm not connected to live weather data, but it looks like a good day to code!\n",
      "You: current time\n",
      "ChatBot 🤖: The current time is 22:25:07\n",
      "You: goodbye\n",
      "ChatBot 🤖: Goodbye! Have a great day! 👋\n"
     ]
    }
   ],
   "source": [
    "import re\n",
    "from datetime import datetime, date\n",
    "\n",
    "def chatbot():\n",
    "    print(\"ChatBot 🤖: Hello! I'm an advanced rule-based chatbot. Type 'bye' to exit.\")\n",
    "\n",
    "    while True:\n",
    "        user_input = input(\"You: \").lower().strip()\n",
    "\n",
    "        if re.search(r\"\\b(hello|hi|hey|greetings|good morning|good evening)\\b\", user_input):\n",
    "            print(\"ChatBot 🤖: Hello! How can I assist you today?\")\n",
    "        \n",
    "        elif re.search(r\"\\b(how are you|how's it going|what's up)\\b\", user_input):\n",
    "            print(\"ChatBot 🤖: I'm just a bot, but I'm feeling great! How about you?\")\n",
    "        \n",
    "        elif re.search(r\"\\b(your name|who are you|what are you)\\b\", user_input):\n",
    "            print(\"ChatBot 🤖: I'm ChatBot, your friendly rule-based assistant.\")\n",
    "        \n",
    "        elif re.search(r\"\\b(time|current time|what time)\\b\", user_input):\n",
    "            now = datetime.now()\n",
    "            print(f\"ChatBot 🤖: The current time is {now.strftime('%H:%M:%S')}\")\n",
    "        \n",
    "        elif re.search(r\"\\b(date|today's date|what is today)\\b\", user_input):\n",
    "            today = date.today()\n",
    "            print(f\"ChatBot 🤖: Today's date is {today.strftime('%Y-%m-%d')}\")\n",
    "        \n",
    "        elif re.search(r\"\\b(weather|temperature|rain|sunny)\\b\", user_input):\n",
    "            print(\"ChatBot 🤖: I'm not connected to live weather data, but it looks like a good day to code!\")\n",
    "        \n",
    "        elif re.search(r\"\\b(programming|code|python|java|javascript)\\b\", user_input):\n",
    "            print(\"ChatBot 🤖: Programming is fun! I can help you with Python basics if you want.\")\n",
    "        \n",
    "        elif re.search(r\"\\b(joke|funny|laugh)\\b\", user_input):\n",
    "            print(\"ChatBot 🤖: Why do programmers prefer dark mode? Because light attracts bugs! 😄\")\n",
    "        \n",
    "        elif re.search(r\"\\b(math|calculate|sum|subtract|multiply|divide)\\b\", user_input):\n",
    "            print(\"ChatBot 🤖: I can help with basic math! Try typing something like '2 + 2'.\")\n",
    "        \n",
    "        elif re.match(r'^[\\d\\s\\+\\-\\*\\/\\(\\)\\.]+$', user_input):\n",
    "            try:\n",
    "                result = eval(user_input)\n",
    "                print(f\"ChatBot 🤖: The answer is {result}\")\n",
    "            except:\n",
    "                print(\"ChatBot 🤖: Sorry, I couldn't calculate that. Make sure it's a valid expression.\")\n",
    "        \n",
    "        elif re.search(r\"\\b(bye|goodbye|see you|exit)\\b\", user_input):\n",
    "            print(\"ChatBot 🤖: Goodbye! Have a great day! 👋\")\n",
    "            break\n",
    "        \n",
    "        else:\n",
    "            print(\"ChatBot 🤖: I'm not sure how to respond to that. Can you ask something else?\")\n",
    "\n",
    "chatbot()\n"
   ]
  },
  {
   "cell_type": "code",
   "execution_count": null,
   "id": "98c1808f",
   "metadata": {},
   "outputs": [],
   "source": []
  }
 ],
 "metadata": {
  "kernelspec": {
   "display_name": "Python 3 (ipykernel)",
   "language": "python",
   "name": "python3"
  },
  "language_info": {
   "codemirror_mode": {
    "name": "ipython",
    "version": 3
   },
   "file_extension": ".py",
   "mimetype": "text/x-python",
   "name": "python",
   "nbconvert_exporter": "python",
   "pygments_lexer": "ipython3",
   "version": "3.9.13"
  }
 },
 "nbformat": 4,
 "nbformat_minor": 5
}
